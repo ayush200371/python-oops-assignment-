{
  "cells": [
    {
      "cell_type": "markdown",
      "id": "e7f663de",
      "metadata": {
        "id": "e7f663de"
      },
      "source": [
        "### 1. What is Object-Oriented Programming (OOP)?"
      ]
    },
    {
      "cell_type": "markdown",
      "id": "5401488d",
      "metadata": {
        "id": "5401488d"
      },
      "source": [
        "Object-Oriented Programming (OOP) is a programming paradigm centered around the concept of objects, which combine data and behavior. The core principles of OOP include encapsulation, abstraction, inheritance, and polymorphism."
      ]
    },
    {
      "cell_type": "markdown",
      "id": "e629194a",
      "metadata": {
        "id": "e629194a"
      },
      "source": [
        "### 2. What is a class in OOP?"
      ]
    },
    {
      "cell_type": "markdown",
      "id": "b89b4694",
      "metadata": {
        "id": "b89b4694"
      },
      "source": [
        "A class is a blueprint or template for creating objects. It defines attributes and methods that the objects created from it will have."
      ]
    },
    {
      "cell_type": "markdown",
      "id": "876f6e73",
      "metadata": {
        "id": "876f6e73"
      },
      "source": [
        "### 3. What is an object in OOP?"
      ]
    },
    {
      "cell_type": "markdown",
      "id": "242e45e6",
      "metadata": {
        "id": "242e45e6"
      },
      "source": [
        "An object is an instance of a class. It contains actual values and can use the methods defined in the class."
      ]
    },
    {
      "cell_type": "markdown",
      "id": "de92428b",
      "metadata": {
        "id": "de92428b"
      },
      "source": [
        "### 4. What is the difference between abstraction and encapsulation?"
      ]
    },
    {
      "cell_type": "markdown",
      "id": "c0bae743",
      "metadata": {
        "id": "c0bae743"
      },
      "source": [
        "Abstraction hides the complex reality while showing only the essential parts. Encapsulation hides internal state and requires all interaction to be performed through an object's methods."
      ]
    },
    {
      "cell_type": "markdown",
      "id": "aa565e76",
      "metadata": {
        "id": "aa565e76"
      },
      "source": [
        "### 5. What are dunder methods in Python?"
      ]
    },
    {
      "cell_type": "markdown",
      "id": "0fc6643c",
      "metadata": {
        "id": "0fc6643c"
      },
      "source": [
        "Dunder (double underscore) methods are special methods in Python like `__init__`, `__str__`, `__repr__`, which have double underscores before and after their names."
      ]
    },
    {
      "cell_type": "markdown",
      "id": "3ffe1b13",
      "metadata": {
        "id": "3ffe1b13"
      },
      "source": [
        "### 6. Explain the concept of inheritance in OOP."
      ]
    },
    {
      "cell_type": "markdown",
      "id": "0d2f0aa6",
      "metadata": {
        "id": "0d2f0aa6"
      },
      "source": [
        "Inheritance allows a class (child) to inherit attributes and methods from another class (parent), promoting code reuse."
      ]
    },
    {
      "cell_type": "markdown",
      "id": "f6e60cad",
      "metadata": {
        "id": "f6e60cad"
      },
      "source": [
        "### 7. What is polymorphism in OOP?"
      ]
    },
    {
      "cell_type": "markdown",
      "id": "b9e7840a",
      "metadata": {
        "id": "b9e7840a"
      },
      "source": [
        "Polymorphism allows methods to do different things based on the object calling them, even though they share the same name."
      ]
    },
    {
      "cell_type": "markdown",
      "id": "42928cb0",
      "metadata": {
        "id": "42928cb0"
      },
      "source": [
        "### 8. How is encapsulation achieved in Python?"
      ]
    },
    {
      "cell_type": "markdown",
      "id": "7e60a3f8",
      "metadata": {
        "id": "7e60a3f8"
      },
      "source": [
        "Encapsulation is achieved using private attributes (with underscores) and public methods to control access to the data."
      ]
    },
    {
      "cell_type": "markdown",
      "id": "ff47da28",
      "metadata": {
        "id": "ff47da28"
      },
      "source": [
        "### 9. What is a constructor in Python?"
      ]
    },
    {
      "cell_type": "markdown",
      "id": "a46e3703",
      "metadata": {
        "id": "a46e3703"
      },
      "source": [
        "A constructor is a special method `__init__` that is automatically called when an object is instantiated."
      ]
    },
    {
      "cell_type": "markdown",
      "id": "e98627fc",
      "metadata": {
        "id": "e98627fc"
      },
      "source": [
        "### 10. What are class and static methods in Python?"
      ]
    },
    {
      "cell_type": "markdown",
      "id": "92286c0f",
      "metadata": {
        "id": "92286c0f"
      },
      "source": [
        "Class methods use `@classmethod` and receive the class (`cls`) as the first argument. Static methods use `@staticmethod` and do not take either `self` or `cls`."
      ]
    },
    {
      "cell_type": "markdown",
      "id": "f33cda6a",
      "metadata": {
        "id": "f33cda6a"
      },
      "source": [
        "### 11. What is method overloading in Python?"
      ]
    },
    {
      "cell_type": "markdown",
      "id": "5325c5a8",
      "metadata": {
        "id": "5325c5a8"
      },
      "source": [
        "Python does not support traditional method overloading but you can use default arguments or variable-length arguments to simulate it."
      ]
    },
    {
      "cell_type": "markdown",
      "id": "1716f033",
      "metadata": {
        "id": "1716f033"
      },
      "source": [
        "### 12. What is method overriding in OOP?"
      ]
    },
    {
      "cell_type": "markdown",
      "id": "d78a251e",
      "metadata": {
        "id": "d78a251e"
      },
      "source": [
        "Method overriding occurs when a subclass defines a method that already exists in its parent class, providing a new version."
      ]
    },
    {
      "cell_type": "markdown",
      "id": "96b41370",
      "metadata": {
        "id": "96b41370"
      },
      "source": [
        "### 13. What is a property decorator in Python?"
      ]
    },
    {
      "cell_type": "markdown",
      "id": "f363030d",
      "metadata": {
        "id": "f363030d"
      },
      "source": [
        "`@property` is used to make a method act like an attribute, enabling getter/setter functionality without changing how it's accessed."
      ]
    },
    {
      "cell_type": "markdown",
      "id": "8ebef8f2",
      "metadata": {
        "id": "8ebef8f2"
      },
      "source": [
        "### 14. Why is polymorphism important in OOP?"
      ]
    },
    {
      "cell_type": "markdown",
      "id": "ddad69f1",
      "metadata": {
        "id": "ddad69f1"
      },
      "source": [
        "Polymorphism improves code flexibility and scalability by allowing functions to operate on objects of different classes."
      ]
    },
    {
      "cell_type": "markdown",
      "id": "567df487",
      "metadata": {
        "id": "567df487"
      },
      "source": [
        "### 15. What is an abstract class in Python?"
      ]
    },
    {
      "cell_type": "markdown",
      "id": "f6387792",
      "metadata": {
        "id": "f6387792"
      },
      "source": [
        "An abstract class is a class that cannot be instantiated directly and may contain abstract methods. It is defined using the `abc` module."
      ]
    },
    {
      "cell_type": "markdown",
      "id": "02c310b4",
      "metadata": {
        "id": "02c310b4"
      },
      "source": [
        "### 16. What are the advantages of OOP?"
      ]
    },
    {
      "cell_type": "markdown",
      "id": "0697ffed",
      "metadata": {
        "id": "0697ffed"
      },
      "source": [
        "Code reusability, modularity, abstraction, ease of maintenance, and increased security through encapsulation."
      ]
    },
    {
      "cell_type": "markdown",
      "id": "c20a733a",
      "metadata": {
        "id": "c20a733a"
      },
      "source": [
        "### 17. What is the difference between a class variable and an instance variable?"
      ]
    },
    {
      "cell_type": "markdown",
      "id": "ba3af157",
      "metadata": {
        "id": "ba3af157"
      },
      "source": [
        "Class variables are shared across all instances of the class. Instance variables are unique to each object."
      ]
    },
    {
      "cell_type": "markdown",
      "id": "0c4fe157",
      "metadata": {
        "id": "0c4fe157"
      },
      "source": [
        "### 18. What is multiple inheritance in Python?"
      ]
    },
    {
      "cell_type": "markdown",
      "id": "b5946fce",
      "metadata": {
        "id": "b5946fce"
      },
      "source": [
        "Multiple inheritance allows a class to inherit from more than one parent class."
      ]
    },
    {
      "cell_type": "markdown",
      "id": "9f35dda0",
      "metadata": {
        "id": "9f35dda0"
      },
      "source": [
        "### 19. Explain the purpose of `__str__` and `__repr__` methods in Python."
      ]
    },
    {
      "cell_type": "markdown",
      "id": "f31467b3",
      "metadata": {
        "id": "f31467b3"
      },
      "source": [
        "`__str__` returns a readable string representation of the object. `__repr__` returns a developer-friendly string representation."
      ]
    },
    {
      "cell_type": "markdown",
      "id": "9adb6db9",
      "metadata": {
        "id": "9adb6db9"
      },
      "source": [
        "### 20. What is the significance of the `super()` function in Python?"
      ]
    },
    {
      "cell_type": "markdown",
      "id": "23f190a4",
      "metadata": {
        "id": "23f190a4"
      },
      "source": [
        "`super()` is used to call methods from a parent class inside a child class."
      ]
    },
    {
      "cell_type": "markdown",
      "id": "ccde6790",
      "metadata": {
        "id": "ccde6790"
      },
      "source": [
        "### 21. What is the significance of the `__del__` method in Python?"
      ]
    },
    {
      "cell_type": "markdown",
      "id": "fa000997",
      "metadata": {
        "id": "fa000997"
      },
      "source": [
        "`__del__` is the destructor method, called when an object is deleted."
      ]
    },
    {
      "cell_type": "markdown",
      "id": "2169b488",
      "metadata": {
        "id": "2169b488"
      },
      "source": [
        "### 22. What is the difference between `@staticmethod` and `@classmethod` in Python?"
      ]
    },
    {
      "cell_type": "markdown",
      "id": "51ab9826",
      "metadata": {
        "id": "51ab9826"
      },
      "source": [
        "`@staticmethod` does not take any special first argument. `@classmethod` takes `cls` as the first argument."
      ]
    },
    {
      "cell_type": "markdown",
      "id": "cd362d16",
      "metadata": {
        "id": "cd362d16"
      },
      "source": [
        "### 23. How does polymorphism work in Python with inheritance?"
      ]
    },
    {
      "cell_type": "markdown",
      "id": "3e79044d",
      "metadata": {
        "id": "3e79044d"
      },
      "source": [
        "Polymorphism allows inherited classes to override methods of the parent class, letting the same method name perform different actions."
      ]
    },
    {
      "cell_type": "markdown",
      "id": "8b6b6431",
      "metadata": {
        "id": "8b6b6431"
      },
      "source": [
        "### 24. What is method chaining in Python OOP?"
      ]
    },
    {
      "cell_type": "markdown",
      "id": "4931d704",
      "metadata": {
        "id": "4931d704"
      },
      "source": [
        "Method chaining allows multiple method calls in a single line by returning `self` from each method."
      ]
    },
    {
      "cell_type": "markdown",
      "id": "a8cb1042",
      "metadata": {
        "id": "a8cb1042"
      },
      "source": [
        "### 25. What is the purpose of the `__call__` method in Python?"
      ]
    },
    {
      "cell_type": "markdown",
      "id": "c52cb9fa",
      "metadata": {
        "id": "c52cb9fa"
      },
      "source": [
        "`__call__` allows an object to be called like a function."
      ]
    },
    {
      "cell_type": "markdown",
      "id": "d81e470a",
      "metadata": {
        "id": "d81e470a"
      },
      "source": [
        "## Practical 1: 1. Animal/Dog inheritance"
      ]
    },
    {
      "cell_type": "code",
      "execution_count": 1,
      "id": "02e3dc0f",
      "metadata": {
        "colab": {
          "base_uri": "https://localhost:8080/"
        },
        "id": "02e3dc0f",
        "outputId": "459cf444-40fe-4223-b141-03693056a0b8"
      },
      "outputs": [
        {
          "output_type": "stream",
          "name": "stdout",
          "text": [
            "Bark!\n"
          ]
        }
      ],
      "source": [
        "\n",
        "class Animal:\n",
        "    def speak(self):\n",
        "        print(\"Animal speaks\")\n",
        "\n",
        "class Dog(Animal):\n",
        "    def speak(self):\n",
        "        print(\"Bark!\")\n",
        "\n",
        "Dog().speak()\n"
      ]
    },
    {
      "cell_type": "markdown",
      "id": "cfc8cb33",
      "metadata": {
        "id": "cfc8cb33"
      },
      "source": [
        "## Practical 2: 2. Abstract Shape with Circle and Rectangle"
      ]
    },
    {
      "cell_type": "code",
      "execution_count": 2,
      "id": "1f26c9a0",
      "metadata": {
        "colab": {
          "base_uri": "https://localhost:8080/"
        },
        "id": "1f26c9a0",
        "outputId": "2be8dbc3-0423-435a-871c-441041b44c96"
      },
      "outputs": [
        {
          "output_type": "stream",
          "name": "stdout",
          "text": [
            "78.5\n",
            "24\n"
          ]
        }
      ],
      "source": [
        "\n",
        "from abc import ABC, abstractmethod\n",
        "\n",
        "class Shape(ABC):\n",
        "    @abstractmethod\n",
        "    def area(self):\n",
        "        pass\n",
        "\n",
        "class Circle(Shape):\n",
        "    def __init__(self, radius):\n",
        "        self.radius = radius\n",
        "    def area(self):\n",
        "        return 3.14 * self.radius ** 2\n",
        "\n",
        "class Rectangle(Shape):\n",
        "    def __init__(self, width, height):\n",
        "        self.width = width\n",
        "        self.height = height\n",
        "    def area(self):\n",
        "        return self.width * self.height\n",
        "\n",
        "print(Circle(5).area())\n",
        "print(Rectangle(4, 6).area())\n"
      ]
    },
    {
      "cell_type": "markdown",
      "id": "e21677c8",
      "metadata": {
        "id": "e21677c8"
      },
      "source": [
        "## Practical 3: 3. Multi-level Inheritance Vehicle > Car > ElectricCar"
      ]
    },
    {
      "cell_type": "code",
      "execution_count": 3,
      "id": "0d3e29db",
      "metadata": {
        "colab": {
          "base_uri": "https://localhost:8080/"
        },
        "id": "0d3e29db",
        "outputId": "67b98947-4d49-4cc9-a605-a9387904efb4"
      },
      "outputs": [
        {
          "output_type": "stream",
          "name": "stdout",
          "text": [
            "Electric Tesla 100kWh\n"
          ]
        }
      ],
      "source": [
        "\n",
        "class Vehicle:\n",
        "    def __init__(self, type):\n",
        "        self.type = type\n",
        "\n",
        "class Car(Vehicle):\n",
        "    def __init__(self, type, brand):\n",
        "        super().__init__(type)\n",
        "        self.brand = brand\n",
        "\n",
        "class ElectricCar(Car):\n",
        "    def __init__(self, type, brand, battery):\n",
        "        super().__init__(type, brand)\n",
        "        self.battery = battery\n",
        "\n",
        "e = ElectricCar(\"Electric\", \"Tesla\", \"100kWh\")\n",
        "print(e.type, e.brand, e.battery)\n"
      ]
    },
    {
      "cell_type": "markdown",
      "id": "698ff092",
      "metadata": {
        "id": "698ff092"
      },
      "source": [
        "## Practical 4: 4. Bird/Sparrow/Penguin Polymorphism"
      ]
    },
    {
      "cell_type": "code",
      "execution_count": 4,
      "id": "a157af59",
      "metadata": {
        "colab": {
          "base_uri": "https://localhost:8080/"
        },
        "id": "a157af59",
        "outputId": "09764fed-1df5-4e7c-ba7c-c1f4bddfb994"
      },
      "outputs": [
        {
          "output_type": "stream",
          "name": "stdout",
          "text": [
            "Sparrow flies high\n",
            "Penguins can't fly\n"
          ]
        }
      ],
      "source": [
        "\n",
        "class Bird:\n",
        "    def fly(self):\n",
        "        print(\"Some birds fly\")\n",
        "\n",
        "class Sparrow(Bird):\n",
        "    def fly(self):\n",
        "        print(\"Sparrow flies high\")\n",
        "\n",
        "class Penguin(Bird):\n",
        "    def fly(self):\n",
        "        print(\"Penguins can't fly\")\n",
        "\n",
        "for bird in [Sparrow(), Penguin()]:\n",
        "    bird.fly()\n"
      ]
    },
    {
      "cell_type": "markdown",
      "id": "2d40b724",
      "metadata": {
        "id": "2d40b724"
      },
      "source": [
        "## Practical 5: 5. Encapsulation with BankAccount"
      ]
    },
    {
      "cell_type": "code",
      "execution_count": 5,
      "id": "94f24de1",
      "metadata": {
        "colab": {
          "base_uri": "https://localhost:8080/"
        },
        "id": "94f24de1",
        "outputId": "a6dd5692-7e0a-4f53-ef34-baa89893bb16"
      },
      "outputs": [
        {
          "output_type": "stream",
          "name": "stdout",
          "text": [
            "500\n"
          ]
        }
      ],
      "source": [
        "\n",
        "class BankAccount:\n",
        "    def __init__(self):\n",
        "        self.__balance = 0\n",
        "\n",
        "    def deposit(self, amount):\n",
        "        self.__balance += amount\n",
        "\n",
        "    def withdraw(self, amount):\n",
        "        if amount <= self.__balance:\n",
        "            self.__balance -= amount\n",
        "        else:\n",
        "            print(\"Insufficient funds\")\n",
        "\n",
        "    def check_balance(self):\n",
        "        return self.__balance\n",
        "\n",
        "account = BankAccount()\n",
        "account.deposit(1000)\n",
        "account.withdraw(500)\n",
        "print(account.check_balance())\n"
      ]
    },
    {
      "cell_type": "markdown",
      "id": "6d92ef0f",
      "metadata": {
        "id": "6d92ef0f"
      },
      "source": [
        "## Practical 6: 6. Runtime polymorphism Instrument/Guitar/Piano"
      ]
    },
    {
      "cell_type": "code",
      "execution_count": 6,
      "id": "5c9e376a",
      "metadata": {
        "colab": {
          "base_uri": "https://localhost:8080/"
        },
        "id": "5c9e376a",
        "outputId": "96c6f517-7140-468c-d8ec-05b3402a3dc6"
      },
      "outputs": [
        {
          "output_type": "stream",
          "name": "stdout",
          "text": [
            "Strumming Guitar\n",
            "Playing Piano\n"
          ]
        }
      ],
      "source": [
        "\n",
        "class Instrument:\n",
        "    def play(self):\n",
        "        print(\"Playing instrument\")\n",
        "\n",
        "class Guitar(Instrument):\n",
        "    def play(self):\n",
        "        print(\"Strumming Guitar\")\n",
        "\n",
        "class Piano(Instrument):\n",
        "    def play(self):\n",
        "        print(\"Playing Piano\")\n",
        "\n",
        "for i in [Guitar(), Piano()]:\n",
        "    i.play()\n"
      ]
    },
    {
      "cell_type": "markdown",
      "id": "d61a3d92",
      "metadata": {
        "id": "d61a3d92"
      },
      "source": [
        "## Practical 7: 7. MathOperations class/static methods"
      ]
    },
    {
      "cell_type": "code",
      "execution_count": 7,
      "id": "6ab7eb59",
      "metadata": {
        "colab": {
          "base_uri": "https://localhost:8080/"
        },
        "id": "6ab7eb59",
        "outputId": "f944daf8-e6a7-4f2e-a515-7fd5b63ee990"
      },
      "outputs": [
        {
          "output_type": "stream",
          "name": "stdout",
          "text": [
            "8\n",
            "6\n"
          ]
        }
      ],
      "source": [
        "\n",
        "class MathOperations:\n",
        "    @classmethod\n",
        "    def add_numbers(cls, a, b):\n",
        "        return a + b\n",
        "\n",
        "    @staticmethod\n",
        "    def subtract_numbers(a, b):\n",
        "        return a - b\n",
        "\n",
        "print(MathOperations.add_numbers(5, 3))\n",
        "print(MathOperations.subtract_numbers(10, 4))\n"
      ]
    },
    {
      "cell_type": "markdown",
      "id": "631fc93e",
      "metadata": {
        "id": "631fc93e"
      },
      "source": [
        "## Practical 8: 8. Class method to count Person instances"
      ]
    },
    {
      "cell_type": "code",
      "execution_count": 8,
      "id": "e20c2e18",
      "metadata": {
        "colab": {
          "base_uri": "https://localhost:8080/"
        },
        "id": "e20c2e18",
        "outputId": "597ea59b-679e-4acf-f41a-07b34a6b9a34"
      },
      "outputs": [
        {
          "output_type": "stream",
          "name": "stdout",
          "text": [
            "2\n"
          ]
        }
      ],
      "source": [
        "\n",
        "class Person:\n",
        "    count = 0\n",
        "\n",
        "    def __init__(self, name):\n",
        "        self.name = name\n",
        "        Person.count += 1\n",
        "\n",
        "    @classmethod\n",
        "    def get_count(cls):\n",
        "        return cls.count\n",
        "\n",
        "p1 = Person(\"A\")\n",
        "p2 = Person(\"B\")\n",
        "print(Person.get_count())\n"
      ]
    },
    {
      "cell_type": "markdown",
      "id": "0f8a4eb6",
      "metadata": {
        "id": "0f8a4eb6"
      },
      "source": [
        "## Practical 9: 9. Fraction class with __str__"
      ]
    },
    {
      "cell_type": "code",
      "execution_count": 9,
      "id": "0ae4a4e8",
      "metadata": {
        "colab": {
          "base_uri": "https://localhost:8080/"
        },
        "id": "0ae4a4e8",
        "outputId": "9d479983-0f46-4821-bc2e-346500afb704"
      },
      "outputs": [
        {
          "output_type": "stream",
          "name": "stdout",
          "text": [
            "2/5\n"
          ]
        }
      ],
      "source": [
        "\n",
        "class Fraction:\n",
        "    def __init__(self, numerator, denominator):\n",
        "        self.numerator = numerator\n",
        "        self.denominator = denominator\n",
        "\n",
        "    def __str__(self):\n",
        "        return f\"{self.numerator}/{self.denominator}\"\n",
        "\n",
        "f = Fraction(2, 5)\n",
        "print(f)\n"
      ]
    },
    {
      "cell_type": "markdown",
      "id": "6a82c9cd",
      "metadata": {
        "id": "6a82c9cd"
      },
      "source": [
        "## Practical 10: 10. Operator overloading in Vector class"
      ]
    },
    {
      "cell_type": "code",
      "execution_count": 10,
      "id": "d5f85cee",
      "metadata": {
        "colab": {
          "base_uri": "https://localhost:8080/"
        },
        "id": "d5f85cee",
        "outputId": "b8daa318-7d1e-450a-dd06-998857099dae"
      },
      "outputs": [
        {
          "output_type": "stream",
          "name": "stdout",
          "text": [
            "(4, 6)\n"
          ]
        }
      ],
      "source": [
        "\n",
        "class Vector:\n",
        "    def __init__(self, x, y):\n",
        "        self.x = x\n",
        "        self.y = y\n",
        "\n",
        "    def __add__(self, other):\n",
        "        return Vector(self.x + other.x, self.y + other.y)\n",
        "\n",
        "    def __str__(self):\n",
        "        return f\"({self.x}, {self.y})\"\n",
        "\n",
        "v1 = Vector(1, 2)\n",
        "v2 = Vector(3, 4)\n",
        "print(v1 + v2)\n"
      ]
    },
    {
      "cell_type": "markdown",
      "id": "5a04e779",
      "metadata": {
        "id": "5a04e779"
      },
      "source": [
        "## Practical 11: 11. Person greet() method"
      ]
    },
    {
      "cell_type": "code",
      "execution_count": 11,
      "id": "e08ff57f",
      "metadata": {
        "colab": {
          "base_uri": "https://localhost:8080/"
        },
        "id": "e08ff57f",
        "outputId": "ee8d3b13-632a-4ab4-b534-246a67bea941"
      },
      "outputs": [
        {
          "output_type": "stream",
          "name": "stdout",
          "text": [
            "Hello, my name is John and I am 30 years old.\n"
          ]
        }
      ],
      "source": [
        "\n",
        "class Person:\n",
        "    def __init__(self, name, age):\n",
        "        self.name = name\n",
        "        self.age = age\n",
        "\n",
        "    def greet(self):\n",
        "        print(f\"Hello, my name is {self.name} and I am {self.age} years old.\")\n",
        "\n",
        "Person(\"John\", 30).greet()\n"
      ]
    },
    {
      "cell_type": "markdown",
      "id": "02ded449",
      "metadata": {
        "id": "02ded449"
      },
      "source": [
        "## Practical 12: 12. Student with average_grade()"
      ]
    },
    {
      "cell_type": "code",
      "execution_count": 12,
      "id": "bf1b3852",
      "metadata": {
        "colab": {
          "base_uri": "https://localhost:8080/"
        },
        "id": "bf1b3852",
        "outputId": "889c19ac-0c85-4bb9-a703-355ca2758115"
      },
      "outputs": [
        {
          "output_type": "stream",
          "name": "stdout",
          "text": [
            "90.0\n"
          ]
        }
      ],
      "source": [
        "\n",
        "class Student:\n",
        "    def __init__(self, name, grades):\n",
        "        self.name = name\n",
        "        self.grades = grades\n",
        "\n",
        "    def average_grade(self):\n",
        "        return sum(self.grades) / len(self.grades)\n",
        "\n",
        "s = Student(\"Alice\", [90, 85, 95])\n",
        "print(s.average_grade())\n"
      ]
    },
    {
      "cell_type": "markdown",
      "id": "c735f63b",
      "metadata": {
        "id": "c735f63b"
      },
      "source": [
        "## Practical 13: 13. Rectangle with area()"
      ]
    },
    {
      "cell_type": "code",
      "execution_count": 13,
      "id": "a97cc007",
      "metadata": {
        "colab": {
          "base_uri": "https://localhost:8080/"
        },
        "id": "a97cc007",
        "outputId": "98d5e7a8-ecf1-4d01-e8f1-6f6cb71777cc"
      },
      "outputs": [
        {
          "output_type": "stream",
          "name": "stdout",
          "text": [
            "20\n"
          ]
        }
      ],
      "source": [
        "\n",
        "class Rectangle:\n",
        "    def set_dimensions(self, width, height):\n",
        "        self.width = width\n",
        "        self.height = height\n",
        "\n",
        "    def area(self):\n",
        "        return self.width * self.height\n",
        "\n",
        "r = Rectangle()\n",
        "r.set_dimensions(4, 5)\n",
        "print(r.area())\n"
      ]
    },
    {
      "cell_type": "markdown",
      "id": "27117bd4",
      "metadata": {
        "id": "27117bd4"
      },
      "source": [
        "## Practical 14: 14. Employee and Manager with salary calculation"
      ]
    },
    {
      "cell_type": "code",
      "execution_count": 14,
      "id": "97f8443b",
      "metadata": {
        "colab": {
          "base_uri": "https://localhost:8080/"
        },
        "id": "97f8443b",
        "outputId": "0f481a8c-860c-4b57-8e84-e34680bdecf1"
      },
      "outputs": [
        {
          "output_type": "stream",
          "name": "stdout",
          "text": [
            "3000\n"
          ]
        }
      ],
      "source": [
        "\n",
        "class Employee:\n",
        "    def __init__(self, hours, rate):\n",
        "        self.hours = hours\n",
        "        self.rate = rate\n",
        "\n",
        "    def calculate_salary(self):\n",
        "        return self.hours * self.rate\n",
        "\n",
        "class Manager(Employee):\n",
        "    def __init__(self, hours, rate, bonus):\n",
        "        super().__init__(hours, rate)\n",
        "        self.bonus = bonus\n",
        "\n",
        "    def calculate_salary(self):\n",
        "        return super().calculate_salary() + self.bonus\n",
        "\n",
        "m = Manager(40, 50, 1000)\n",
        "print(m.calculate_salary())\n"
      ]
    },
    {
      "cell_type": "markdown",
      "id": "9c1b7dc6",
      "metadata": {
        "id": "9c1b7dc6"
      },
      "source": [
        "## Practical 15: 15. Product with total_price()"
      ]
    },
    {
      "cell_type": "code",
      "execution_count": 15,
      "id": "bf53abfe",
      "metadata": {
        "colab": {
          "base_uri": "https://localhost:8080/"
        },
        "id": "bf53abfe",
        "outputId": "1fce85dd-c750-40dd-dc8d-9024ab225b72"
      },
      "outputs": [
        {
          "output_type": "stream",
          "name": "stdout",
          "text": [
            "150\n"
          ]
        }
      ],
      "source": [
        "\n",
        "class Product:\n",
        "    def __init__(self, name, price, quantity):\n",
        "        self.name = name\n",
        "        self.price = price\n",
        "        self.quantity = quantity\n",
        "\n",
        "    def total_price(self):\n",
        "        return self.price * self.quantity\n",
        "\n",
        "p = Product(\"Notebook\", 50, 3)\n",
        "print(p.total_price())\n"
      ]
    },
    {
      "cell_type": "markdown",
      "id": "9b6e0808",
      "metadata": {
        "id": "9b6e0808"
      },
      "source": [
        "## Practical 16: 16. Animal/Cow/Sheep sound()"
      ]
    },
    {
      "cell_type": "code",
      "execution_count": 16,
      "id": "5a54638f",
      "metadata": {
        "colab": {
          "base_uri": "https://localhost:8080/"
        },
        "id": "5a54638f",
        "outputId": "60d7a454-7c41-460e-b5e8-c14d3aa790c8"
      },
      "outputs": [
        {
          "output_type": "stream",
          "name": "stdout",
          "text": [
            "Moo\n",
            "Baa\n"
          ]
        }
      ],
      "source": [
        "\n",
        "from abc import ABC, abstractmethod\n",
        "\n",
        "class Animal(ABC):\n",
        "    @abstractmethod\n",
        "    def sound(self):\n",
        "        pass\n",
        "\n",
        "class Cow(Animal):\n",
        "    def sound(self):\n",
        "        return \"Moo\"\n",
        "\n",
        "class Sheep(Animal):\n",
        "    def sound(self):\n",
        "        return \"Baa\"\n",
        "\n",
        "print(Cow().sound())\n",
        "print(Sheep().sound())\n"
      ]
    },
    {
      "cell_type": "markdown",
      "id": "cf81e45f",
      "metadata": {
        "id": "cf81e45f"
      },
      "source": [
        "## Practical 17: 17. Book with get_book_info()"
      ]
    },
    {
      "cell_type": "code",
      "execution_count": 17,
      "id": "4fa159db",
      "metadata": {
        "colab": {
          "base_uri": "https://localhost:8080/"
        },
        "id": "4fa159db",
        "outputId": "9431886d-10be-4de8-aa5b-9efd49c684c5"
      },
      "outputs": [
        {
          "output_type": "stream",
          "name": "stdout",
          "text": [
            "1984 by George Orwell (1949)\n"
          ]
        }
      ],
      "source": [
        "\n",
        "class Book:\n",
        "    def __init__(self, title, author, year_published):\n",
        "        self.title = title\n",
        "        self.author = author\n",
        "        self.year = year_published\n",
        "\n",
        "    def get_book_info(self):\n",
        "        return f\"{self.title} by {self.author} ({self.year})\"\n",
        "\n",
        "print(Book(\"1984\", \"George Orwell\", 1949).get_book_info())\n"
      ]
    },
    {
      "cell_type": "markdown",
      "id": "c30692ab",
      "metadata": {
        "id": "c30692ab"
      },
      "source": [
        "## Practical 18: 18. House/Mansion inheritance"
      ]
    },
    {
      "cell_type": "code",
      "execution_count": 18,
      "id": "fdcaab0c",
      "metadata": {
        "colab": {
          "base_uri": "https://localhost:8080/"
        },
        "id": "fdcaab0c",
        "outputId": "d745ecee-97cf-4a8f-c842-c6f74d8c3fa4"
      },
      "outputs": [
        {
          "output_type": "stream",
          "name": "stdout",
          "text": [
            "123 Lane 5000000 10\n"
          ]
        }
      ],
      "source": [
        "\n",
        "class House:\n",
        "    def __init__(self, address, price):\n",
        "        self.address = address\n",
        "        self.price = price\n",
        "\n",
        "class Mansion(House):\n",
        "    def __init__(self, address, price, number_of_rooms):\n",
        "        super().__init__(address, price)\n",
        "        self.number_of_rooms = number_of_rooms\n",
        "\n",
        "m = Mansion(\"123 Lane\", 5000000, 10)\n",
        "print(m.address, m.price, m.number_of_rooms)\n"
      ]
    }
  ],
  "metadata": {
    "colab": {
      "provenance": []
    },
    "language_info": {
      "name": "python"
    },
    "kernelspec": {
      "name": "python3",
      "display_name": "Python 3"
    }
  },
  "nbformat": 4,
  "nbformat_minor": 5
}